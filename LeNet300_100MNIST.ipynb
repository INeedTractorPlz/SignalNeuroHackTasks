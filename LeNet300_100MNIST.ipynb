{
  "nbformat": 4,
  "nbformat_minor": 0,
  "metadata": {
    "colab": {
      "name": "Copy_of_Untitled1_(10).ipynb",
      "version": "0.3.2",
      "provenance": [],
      "collapsed_sections": []
    },
    "kernelspec": {
      "name": "python3",
      "display_name": "Python 3"
    },
    "accelerator": "GPU"
  },
  "cells": [
    {
      "cell_type": "code",
      "metadata": {
        "id": "ZVn9PfxdBIz-",
        "colab_type": "code",
        "colab": {}
      },
      "source": [
        "import numpy as np\n",
        "np.random.seed(42)\n",
        "import matplotlib.pyplot as plt\n",
        "%matplotlib inline\n",
        "import torch\n",
        "import torch.nn as nn\n",
        "from torch.autograd import Variable\n",
        "import torchvision.datasets as datasets\n",
        "import torchvision.transforms as transforms\n",
        "import argparse\n",
        "import os\n",
        "import torch.nn.functional as F\n",
        "import torch.optim as optim"
      ],
      "execution_count": 0,
      "outputs": []
    },
    {
      "cell_type": "code",
      "metadata": {
        "id": "jKBfmzL2BZrj",
        "colab_type": "code",
        "colab": {}
      },
      "source": [
        "trans = transforms.Compose([transforms.ToTensor(), transforms.Normalize((0.5,), (1.0,))])"
      ],
      "execution_count": 0,
      "outputs": []
    },
    {
      "cell_type": "code",
      "metadata": {
        "id": "58orrnUKBfep",
        "colab_type": "code",
        "colab": {}
      },
      "source": [
        "root = './data'\n",
        "if not os.path.exists(root):\n",
        "    os.mkdir(root)\n",
        "train_set = datasets.MNIST(root=root, train=True, transform=trans, download=True)\n",
        "test_set = datasets.MNIST(root=root, train=False, transform=trans, download=True)"
      ],
      "execution_count": 0,
      "outputs": []
    },
    {
      "cell_type": "code",
      "metadata": {
        "id": "Shbot6zPBfaU",
        "colab_type": "code",
        "colab": {}
      },
      "source": [
        "batch_size = 60"
      ],
      "execution_count": 0,
      "outputs": []
    },
    {
      "cell_type": "code",
      "metadata": {
        "id": "YcaIjuvRBfXd",
        "colab_type": "code",
        "colab": {}
      },
      "source": [
        "train_loader = torch.utils.data.DataLoader(\n",
        "                 dataset=train_set,\n",
        "                 batch_size=batch_size,\n",
        "                 shuffle=True)\n",
        "\n",
        "test_loader = torch.utils.data.DataLoader(\n",
        "                 dataset=test_set,\n",
        "                 batch_size=batch_size,\n",
        "                 shuffle=False)"
      ],
      "execution_count": 0,
      "outputs": []
    },
    {
      "cell_type": "code",
      "metadata": {
        "id": "oe1lUdjBBfOi",
        "colab_type": "code",
        "colab": {}
      },
      "source": [
        "def to_var(x, requires_grad=False, volatile=False):\n",
        "    if torch.cuda.is_available():\n",
        "        x = x.cuda()\n",
        "    return Variable(x, requires_grad=requires_grad, volatile=volatile)"
      ],
      "execution_count": 0,
      "outputs": []
    },
    {
      "cell_type": "code",
      "metadata": {
        "id": "wUk3lFuyBzpb",
        "colab_type": "code",
        "colab": {}
      },
      "source": [
        "def weight_prune(model, pruning_perc):\n",
        "    all_weights = []\n",
        "    for p in model.parameters():\n",
        "        if len(p.data.size()) != 1:\n",
        "            all_weights += list(p.cpu().data.abs().numpy().flatten())\n",
        "             \n",
        "    threshold = np.percentile(np.array(all_weights), pruning_perc)\n",
        "    print(threshold)\n",
        "    \n",
        "    masks = []\n",
        "    for p in model.parameters():\n",
        "        if len(p.data.size()) != 1:\n",
        "            pruned_inds = p.data.abs() > threshold\n",
        "            masks.append(pruned_inds.float())\n",
        "    \n",
        "    return masks"
      ],
      "execution_count": 0,
      "outputs": []
    },
    {
      "cell_type": "code",
      "metadata": {
        "id": "UtNaAppnuhvR",
        "colab_type": "code",
        "colab": {}
      },
      "source": [
        "def diff_init_weight_prune(model, pruning_perc):\n",
        "    all_weights = []\n",
        "    all_init_weights = []\n",
        "    for p in model.parameters():\n",
        "      if len(p.data.size()) != 1:\n",
        "        all_weights += list(p.cpu().data.abs().numpy().flatten())\n",
        "    \n",
        "    for p in model.init_parameters():\n",
        "      if len(p.data.size()) != 1:\n",
        "        all_init_weights += list(p.cpu().data.abs().numpy().flatten())\n",
        "    \n",
        "    threshold = np.percentile(abs(np.array(all_init_weights)) - abs(np.array(all_weights)), pruning_perc)\n",
        "    \n",
        "    print(threshold)\n",
        "    # generate mask\n",
        "    masks = []\n",
        "    for p, p_init in zip(model.parameters(), model.init_parameters()):\n",
        "      if len(p.data.size()) != 1 and len(p_init.data.size()) != 1:\n",
        "        pruned_inds = p_init.data.abs().cuda() - p.data.abs() > threshold\n",
        "        masks.append(pruned_inds.float())\n",
        "    \n",
        "    return masks"
      ],
      "execution_count": 0,
      "outputs": []
    },
    {
      "cell_type": "code",
      "metadata": {
        "id": "8QGg4HYZB400",
        "colab_type": "code",
        "colab": {}
      },
      "source": [
        "class MaskedLinear(nn.Linear):\n",
        "    def __init__(self, in_features, out_features, bias=True):\n",
        "        super(MaskedLinear, self).__init__(in_features, out_features, bias)\n",
        "        self.mask_flag = False\n",
        "    \n",
        "    def set_mask(self, mask):\n",
        "        self.mask = mask\n",
        "        mask_var = self.get_mask()\n",
        "        self.weight.data = self.weight.data * mask_var.data\n",
        "        self.mask_flag = True\n",
        "    \n",
        "    def get_mask(self):\n",
        "        return to_var(self.mask, requires_grad=False)\n",
        "    \n",
        "    def forward(self, x):\n",
        "        if self.mask_flag == True:\n",
        "            mask_var = self.get_mask()\n",
        "            weight = self.weight * mask_var\n",
        "            return F.linear(x, weight, self.bias)\n",
        "        else:\n",
        "            return F.linear(x, self.weight, self.bias)\n",
        " "
      ],
      "execution_count": 0,
      "outputs": []
    },
    {
      "cell_type": "code",
      "metadata": {
        "id": "v4colmQRB4wX",
        "colab_type": "code",
        "colab": {}
      },
      "source": [
        "class Lenet_300_100(nn.Module):\n",
        "  def __init__(self):\n",
        "    super(Lenet_300_100, self).__init__()\n",
        "    \n",
        "    self.fc1 = MaskedLinear(28 * 28, 300)\n",
        "    self.relu1 = nn.ReLU(inplace = True)\n",
        "    \n",
        "    self.fc2 = MaskedLinear(300, 100)\n",
        "    self.relu2 = nn.ReLU(inplace = True)\n",
        "    \n",
        "    self.fc3 = MaskedLinear(100, 10)\n",
        "    \n",
        "    self.init_params = self.state_dict()\n",
        "    \n",
        "  def forward(self, x):\n",
        "    x = x.view(x.size(0), 28 * 28)\n",
        "    out = self.fc1(x)\n",
        "    out = self.relu1(out)\n",
        "    out = self.fc2(out)\n",
        "    out = self.relu2(out)\n",
        "    logits = self.fc3(out)\n",
        "    \n",
        "    return logits \n",
        "  \n",
        "  def set_masks(self, masks):\n",
        "    self.fc1.set_mask(masks[0])\n",
        "    self.fc2.set_mask(masks[1])\n",
        "    self.fc3.set_mask(masks[2])\n",
        "    \n",
        "  def reset_parameters(self):\n",
        "    self.load_state_dict(self.init_params)\n",
        "    \n",
        "  def init_parameters(self):\n",
        "    for name in self.init_params.keys():\n",
        "      yield self.init_params[name]\n",
        "        "
      ],
      "execution_count": 0,
      "outputs": []
    },
    {
      "cell_type": "code",
      "metadata": {
        "id": "6PnWfk1REb7K",
        "colab_type": "code",
        "colab": {}
      },
      "source": [
        "def compute_accuracy(model, loader):\n",
        "\n",
        "    model.eval()\n",
        "\n",
        "    num_correct, num_samples = 0, len(loader.dataset)\n",
        "    for x, y in loader:\n",
        "        x_var = to_var(x, volatile=True)\n",
        "        scores = model(x_var)\n",
        "        _, preds = scores.data.cpu().max(1)\n",
        "        num_correct += (preds == y).sum()\n",
        "\n",
        "    acc = float(num_correct) / num_samples\n",
        "\n",
        "    return acc"
      ],
      "execution_count": 0,
      "outputs": []
    },
    {
      "cell_type": "code",
      "metadata": {
        "id": "9NwiNUIfvuES",
        "colab_type": "code",
        "colab": {}
      },
      "source": [
        "#print(\"--- {}% parameters pruned ---\".format(prune_rate(model)))"
      ],
      "execution_count": 0,
      "outputs": []
    },
    {
      "cell_type": "code",
      "metadata": {
        "id": "ATxSQn5qEh57",
        "colab_type": "code",
        "colab": {}
      },
      "source": [
        "def train(model, loss_fn, optimizer, epochs, purge_epochs, purge_rate,\n",
        "          loader_train, loader_val=None):\n",
        "\n",
        "    model.train()\n",
        "    \n",
        "    loss_list = []\n",
        "    accuracy_list = []\n",
        "    \n",
        "    for epoch in range(epochs):\n",
        "        if ((epoch + 1) % purge_epochs == 0):\n",
        "          if purge_rate != 0: \n",
        "            print(\"Purging...\")     \n",
        "            masks = diff_init_weight_prune(model, (1 - (1 - purge_rate / 100) ** ((epoch + 1) / purge_epochs)) * 100)\n",
        "            \n",
        "            model.reset_parameters()\n",
        "            model.set_masks(masks)\n",
        "            \n",
        "            prune_rate(model)\n",
        "            \n",
        "        print('Starting epoch %d / %d' % (epoch + 1, epochs))\n",
        "        av_loss = 0\n",
        "        for t, (x, y) in enumerate(loader_train):\n",
        "            x_var, y_var = to_var(x), to_var(y.long())\n",
        "\n",
        "            scores = model(x_var)\n",
        "            loss = loss_fn(scores, y_var)\n",
        "            \n",
        "            optimizer.zero_grad()\n",
        "            loss.backward()\n",
        "            \n",
        "            optimizer.step()\n",
        "            av_loss += loss.item()\n",
        "        \n",
        "        \n",
        "        loss_list.append(av_loss / t)\n",
        "        accuracy_list.append(compute_accuracy(model, test_loader))\n",
        "          \n",
        "    return loss_list, accuracy_list, purge_rate     "
      ],
      "execution_count": 0,
      "outputs": []
    },
    {
      "cell_type": "code",
      "metadata": {
        "id": "XRv_i2pSI6OI",
        "colab_type": "code",
        "colab": {}
      },
      "source": [
        "def prune_rate(model, verbose=True):\n",
        "    total_nb_param = 0\n",
        "    nb_zero_param = 0\n",
        "\n",
        "    layer_id = 0\n",
        "\n",
        "    for parameter in model.parameters():\n",
        "      \n",
        "        param_this_layer = 1\n",
        "        for dim in parameter.data.size():\n",
        "            param_this_layer *= dim\n",
        "        total_nb_param += param_this_layer\n",
        "\n",
        "        # only pruning linear and conv layers\n",
        "        if len(parameter.data.size()) != 1:\n",
        "            layer_id += 1\n",
        "            zero_param_this_layer = \\\n",
        "                np.count_nonzero(parameter.cpu().data.numpy()==0)\n",
        "            nb_zero_param += zero_param_this_layer\n",
        "\n",
        "            if verbose:\n",
        "                print(\"Layer {} | {} layer | {:.2f}% parameters pruned\" \\\n",
        "                    .format(\n",
        "                        layer_id,\n",
        "                        'Conv' if len(parameter.data.size()) == 4 \\\n",
        "                            else 'Linear',\n",
        "                        100.*zero_param_this_layer/param_this_layer,\n",
        "                        ))\n",
        "                \n",
        "    pruning_perc = 100. * nb_zero_param/total_nb_param\n",
        "    \n",
        "    if verbose:\n",
        "        print(\"Current pruning rate: {:.2f}%\".format(pruning_perc))\n",
        "    \n",
        "    return pruning_perc"
      ],
      "execution_count": 0,
      "outputs": []
    },
    {
      "cell_type": "code",
      "metadata": {
        "id": "Qn3DlZEtBOb8",
        "colab_type": "code",
        "outputId": "d539142a-b1d2-438a-dc6f-4745487e1bd4",
        "colab": {
          "base_uri": "https://localhost:8080/",
          "height": 866
        }
      },
      "source": [
        "net = Lenet_300_100()\n",
        "\n",
        "if torch.cuda.is_available():\n",
        "    print('CUDA enabled.')\n",
        "    net.cuda()\n",
        "\n",
        "print(\"--- Before retraining ---\")\n",
        "print(\"Accuracy: {}\".format(compute_accuracy(net, test_loader)))\n",
        "\n",
        "# Retrain\n",
        "criterion = nn.CrossEntropyLoss()\n",
        "optimizer = torch.optim.RMSprop(net.parameters(), lr=1.2e-3, \n",
        "                                weight_decay=0.0001)\n",
        "\n",
        "loss, accuracy, _ = train(net, criterion, optimizer, epochs=30, \n",
        "                       purge_epochs=16, purge_rate=75, \n",
        "                       loader_train=train_loader)\n",
        "\n",
        "print(\"--- After retraining ---\")\n",
        "print(\"Accuracy: {}\".format(compute_accuracy(net, test_loader)))\n",
        "prune_rate(net)"
      ],
      "execution_count": 22,
      "outputs": [
        {
          "output_type": "stream",
          "text": [
            "CUDA enabled.\n",
            "--- Before retraining ---\n"
          ],
          "name": "stdout"
        },
        {
          "output_type": "stream",
          "text": [
            "/usr/local/lib/python3.6/dist-packages/ipykernel_launcher.py:4: UserWarning: volatile was removed and now has no effect. Use `with torch.no_grad():` instead.\n",
            "  after removing the cwd from sys.path.\n"
          ],
          "name": "stderr"
        },
        {
          "output_type": "stream",
          "text": [
            "Accuracy: 0.0811\n",
            "Starting epoch 1 / 30\n",
            "Starting epoch 2 / 30\n",
            "Starting epoch 3 / 30\n",
            "Starting epoch 4 / 30\n",
            "Starting epoch 5 / 30\n",
            "Starting epoch 6 / 30\n",
            "Starting epoch 7 / 30\n",
            "Starting epoch 8 / 30\n",
            "Starting epoch 9 / 30\n",
            "Starting epoch 10 / 30\n",
            "Starting epoch 11 / 30\n",
            "Starting epoch 12 / 30\n",
            "Starting epoch 13 / 30\n",
            "Starting epoch 14 / 30\n",
            "Starting epoch 15 / 30\n",
            "Purging...\n",
            "0.02431097999215126\n",
            "Layer 1 | Linear layer | 77.41% parameters pruned\n",
            "Layer 2 | Linear layer | 55.91% parameters pruned\n",
            "Layer 3 | Linear layer | 81.40% parameters pruned\n",
            "Current pruning rate: 74.88%\n",
            "Starting epoch 16 / 30\n",
            "Starting epoch 17 / 30\n",
            "Starting epoch 18 / 30\n",
            "Starting epoch 19 / 30\n",
            "Starting epoch 20 / 30\n",
            "Starting epoch 21 / 30\n",
            "Starting epoch 22 / 30\n",
            "Starting epoch 23 / 30\n",
            "Starting epoch 24 / 30\n",
            "Starting epoch 25 / 30\n",
            "Starting epoch 26 / 30\n",
            "Starting epoch 27 / 30\n",
            "Starting epoch 28 / 30\n",
            "Starting epoch 29 / 30\n",
            "Starting epoch 30 / 30\n",
            "--- After retraining ---\n",
            "Accuracy: 0.9696\n",
            "Layer 1 | Linear layer | 77.41% parameters pruned\n",
            "Layer 2 | Linear layer | 55.91% parameters pruned\n",
            "Layer 3 | Linear layer | 81.40% parameters pruned\n",
            "Current pruning rate: 74.89%\n"
          ],
          "name": "stdout"
        },
        {
          "output_type": "execute_result",
          "data": {
            "text/plain": [
              "74.88541315029444"
            ]
          },
          "metadata": {
            "tags": []
          },
          "execution_count": 22
        }
      ]
    },
    {
      "cell_type": "code",
      "metadata": {
        "id": "1c59V3qqXp19",
        "colab_type": "code",
        "outputId": "da07ec41-d6ac-46a0-b8ed-4ef34cef583b",
        "colab": {
          "base_uri": "https://localhost:8080/",
          "height": 286
        }
      },
      "source": [
        "plt.plot(accuracy)"
      ],
      "execution_count": 23,
      "outputs": [
        {
          "output_type": "execute_result",
          "data": {
            "text/plain": [
              "[<matplotlib.lines.Line2D at 0x7fb8ae0bfdd8>]"
            ]
          },
          "metadata": {
            "tags": []
          },
          "execution_count": 23
        },
        {
          "output_type": "display_data",
          "data": {
            "image/png": "[encoded data removed]",
            "text/plain": [
              "<Figure size 432x288 with 1 Axes>"
            ]
          },
          "metadata": {
            "tags": []
          }
        }
      ]
    },
    {
      "cell_type": "code",
      "metadata": {
        "id": "tKnR7KAfbXLp",
        "colab_type": "code",
        "outputId": "d3d376e8-d57c-49e6-81ab-918ed3bb38c9",
        "colab": {
          "base_uri": "https://localhost:8080/",
          "height": 55
        }
      },
      "source": [
        "print(loss)"
      ],
      "execution_count": 20,
      "outputs": [
        {
          "output_type": "stream",
          "text": [
            "[0.37454348518415254, 0.16619072936557316, 0.12167411898397976, 0.09812249641052566, 0.0829204150696506, 0.07506143394356558, 0.06649163151935984, 0.06243602092167152, 0.05639147490180947, 0.052707788548562805, 0.0492002956410828, 0.04684338900209353, 0.044660410952630326, 0.04254783810516288, 0.04237021210605047, 0.47521380722910556, 0.24057531851652386, 0.1678246728203318, 0.1320295231817691, 0.11073972986408838, 0.09726024542546442, 0.08685881405224179, 0.0794089839575128, 0.07227349779135114, 0.06726165280213116, 0.06208377670602979, 0.05898759173319299, 0.05458086603463304, 0.052406776522111904, 0.051122773362247194]\n"
          ],
          "name": "stdout"
        }
      ]
    },
    {
      "cell_type": "code",
      "metadata": {
        "id": "7S0SsUbLNuKM",
        "colab_type": "code",
        "outputId": "8bce3608-d0ae-46ea-f7ee-96900c3c8d18",
        "colab": {
          "base_uri": "https://localhost:8080/",
          "height": 55
        }
      },
      "source": [
        "print(accuracy)"
      ],
      "execution_count": 21,
      "outputs": [
        {
          "output_type": "stream",
          "text": [
            "[0.9409, 0.9643, 0.9577, 0.965, 0.9595, 0.9747, 0.9733, 0.9757, 0.9754, 0.9735, 0.9752, 0.9749, 0.9533, 0.9764, 0.9777, 0.9109, 0.9463, 0.9537, 0.9639, 0.9635, 0.9459, 0.9713, 0.974, 0.9634, 0.9755, 0.9743, 0.9713, 0.9746, 0.9737, 0.9759]\n"
          ],
          "name": "stdout"
        }
      ]
    },
    {
      "cell_type": "code",
      "metadata": {
        "id": "EJ6bqRsK9wbE",
        "colab_type": "code",
        "colab": {}
      },
      "source": [
        "from matplotlib.colors import ListedColormap\n",
        "from matplotlib import colors\n",
        "\n",
        "def visualize(weights, title, figsize=None):\n",
        "  plt.figure(figsize=figsize)\n",
        "  \n",
        "  cmap = ListedColormap(['k', 'w', 'r'])\n",
        "  #cax = ax.matshow(x,cmap=cmap)\n",
        "  data = weights.data.cpu().detach().abs().numpy().flatten()\n",
        "  half = int(np.sqrt(data.size)) + 1\n",
        "  data = np.concatenate((data, np.zeros(half * half - data.size)), axis=0)\n",
        "  data = data.reshape(half, half)\n",
        "  \n",
        "  bounds=[0,0.000000000000001,0.5,1.0]\n",
        "  norm = colors.BoundaryNorm(bounds, cmap.N)\n",
        "  \n",
        "  plt.imshow(data, cmap=cmap, norm=norm)\n",
        "  plt.colorbar()\n",
        "  plt.title(title)\n",
        "  plt.axis('off')\n",
        "  plt.tight_layout()"
      ],
      "execution_count": 0,
      "outputs": []
    },
    {
      "cell_type": "code",
      "metadata": {
        "id": "uA_bXEVo91rL",
        "colab_type": "code",
        "colab": {
          "base_uri": "https://localhost:8080/",
          "height": 827
        },
        "outputId": "2f71275d-6073-4a5a-886e-531640ee824d"
      },
      "source": [
        "visualize(net.fc2.weight,'FC weight', (8, 8))"
      ],
      "execution_count": 186,
      "outputs": [
        {
          "output_type": "display_data",
          "data": {
            "image/png": "[encoded data removed]",
            "text/plain": [
              "<Figure size 800x800 with 2 Axes>"
            ]
          },
          "metadata": {
            "tags": []
          }
        }
      ]
    },
    {
      "cell_type": "code",
      "metadata": {
        "id": "Xn74fUpQNvNG",
        "colab_type": "code",
        "colab": {
          "base_uri": "https://localhost:8080/",
          "height": 286
        },
        "outputId": "08e3f46c-deb3-4ff4-ab3c-247b71c06bee"
      },
      "source": [
        "activations = {}\n",
        "def get_activation(name):\n",
        "    def hook(model, input, output):\n",
        "        activations[name] = output.detach()\n",
        "    \n",
        "    return hook\n",
        "\n",
        "weights = net.fc2.weight.data.cpu().numpy()\n",
        "net.fc2.register_forward_hook(get_activation('fc3'))\n",
        "\n",
        "x = torch.randn(1, 784)\n",
        "x = x.cuda()\n",
        "output = net(x)\n",
        "\n",
        "\n",
        "plt.imshow(weights, interpolation='nearest', aspect='auto')"
      ],
      "execution_count": 47,
      "outputs": [
        {
          "output_type": "execute_result",
          "data": {
            "text/plain": [
              "<matplotlib.image.AxesImage at 0x7fb8ae5fe4a8>"
            ]
          },
          "metadata": {
            "tags": []
          },
          "execution_count": 47
        },
        {
          "output_type": "display_data",
          "data": {
            "image/png": "[encoded data removed]",
            "text/plain": [
              "<Figure size 432x288 with 1 Axes>"
            ]
          },
          "metadata": {
            "tags": []
          }
        }
      ]
    },
    {
      "cell_type": "code",
      "metadata": {
        "id": "NspBGnCqtADX",
        "colab_type": "code",
        "colab": {}
      },
      "source": [
        "-"
      ],
      "execution_count": 0,
      "outputs": []
    }
  ]
}