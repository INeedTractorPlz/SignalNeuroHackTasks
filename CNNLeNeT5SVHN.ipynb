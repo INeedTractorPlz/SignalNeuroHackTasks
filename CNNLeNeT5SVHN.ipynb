{
  "nbformat": 4,
  "nbformat_minor": 0,
  "metadata": {
    "colab": {
      "name": "Copy of Copy of Untitled1_(13).ipynb",
      "version": "0.3.2",
      "provenance": [],
      "collapsed_sections": []
    },
    "kernelspec": {
      "name": "python3",
      "display_name": "Python 3"
    },
    "accelerator": "GPU"
  },
  "cells": [
    {
      "cell_type": "code",
      "metadata": {
        "id": "ZVn9PfxdBIz-",
        "colab_type": "code",
        "colab": {}
      },
      "source": [
        "import numpy as np\n",
        "np.random.seed(42)\n",
        "import matplotlib.pyplot as plt\n",
        "%matplotlib inline\n",
        "import torch\n",
        "import torch.nn as nn\n",
        "from torch.autograd import Variable\n",
        "import torchvision.datasets as datasets\n",
        "import torchvision.transforms as transforms\n",
        "import argparse\n",
        "import os\n",
        "import torch.nn.functional as F\n",
        "import torch.optim as optim\n",
        "from collections import OrderedDict"
      ],
      "execution_count": 0,
      "outputs": []
    },
    {
      "cell_type": "code",
      "metadata": {
        "id": "jKBfmzL2BZrj",
        "colab_type": "code",
        "colab": {}
      },
      "source": [
        "trans = transforms.Compose([transforms.ToTensor(), transforms.Normalize((0.5,), (1.0,))])"
      ],
      "execution_count": 0,
      "outputs": []
    },
    {
      "cell_type": "code",
      "metadata": {
        "id": "58orrnUKBfep",
        "colab_type": "code",
        "outputId": "da2ccfed-b0da-4256-fc30-d96c81fb9c6e",
        "colab": {
          "base_uri": "https://localhost:8080/",
          "height": 53
        }
      },
      "source": [
        "root = './data'\n",
        "if not os.path.exists(root):\n",
        "    os.mkdir(root)\n",
        "train_set = datasets.SVHN('./', \n",
        "                       transform=transforms.Compose([\n",
        "                           transforms.ToTensor(),\n",
        "                           transforms.Normalize(mean=[0.43,0.44,0.47],\n",
        "                                               std=[0.20,0.20,0.20])                           \n",
        "                       ]), download=True \n",
        "                      )\n",
        "test_set = datasets.SVHN('./', split='test', transform=transforms.Compose([\n",
        "                           transforms.ToTensor(),\n",
        "                           transforms.Normalize(mean=[0.43,0.44,0.47],\n",
        "                                               std=[0.20,0.20,0.20])                           \n",
        "                       ]), download=True )\n",
        "\n",
        "#train_set = datasets.MNIST(root=root, train=True, transform=trans, download=True)\n",
        "#test_set = datasets.MNIST(root=root, train=False, transform=trans, download=True)"
      ],
      "execution_count": 11,
      "outputs": [
        {
          "output_type": "stream",
          "text": [
            "Using downloaded and verified file: ./train_32x32.mat\n",
            "Using downloaded and verified file: ./test_32x32.mat\n"
          ],
          "name": "stdout"
        }
      ]
    },
    {
      "cell_type": "code",
      "metadata": {
        "id": "Shbot6zPBfaU",
        "colab_type": "code",
        "colab": {}
      },
      "source": [
        "batch_size = 60"
      ],
      "execution_count": 0,
      "outputs": []
    },
    {
      "cell_type": "code",
      "metadata": {
        "id": "YcaIjuvRBfXd",
        "colab_type": "code",
        "colab": {}
      },
      "source": [
        "train_loader = torch.utils.data.DataLoader(\n",
        "                 dataset=train_set,\n",
        "                 batch_size=batch_size,\n",
        "                 shuffle=True)\n",
        "\n",
        "test_loader = torch.utils.data.DataLoader(\n",
        "                 dataset=test_set,\n",
        "                 batch_size=batch_size,\n",
        "                 shuffle=False)"
      ],
      "execution_count": 0,
      "outputs": []
    },
    {
      "cell_type": "code",
      "metadata": {
        "id": "oe1lUdjBBfOi",
        "colab_type": "code",
        "colab": {}
      },
      "source": [
        "def to_var(x, requires_grad=False, volatile=False):\n",
        "    if torch.cuda.is_available():\n",
        "        x = x.cuda()\n",
        "    return Variable(x, requires_grad=requires_grad, volatile=volatile)"
      ],
      "execution_count": 0,
      "outputs": []
    },
    {
      "cell_type": "code",
      "metadata": {
        "id": "doZFgYIwqoZC",
        "colab_type": "code",
        "colab": {}
      },
      "source": [
        "def weight_prune(model, pruning_perc):\n",
        "    all_weights = []\n",
        "    for p in model.parameters():\n",
        "        if len(p.data.size()) != 1:\n",
        "            all_weights += list(p.cpu().data.abs().numpy().flatten())\n",
        "             \n",
        "    threshold = np.percentile(np.array(all_weights), pruning_perc)\n",
        "    print(threshold)\n",
        "    \n",
        "    masks = []\n",
        "    for p in model.parameters():\n",
        "        if len(p.data.size()) != 1:\n",
        "            pruned_inds = p.data.abs() > threshold\n",
        "            masks.append(pruned_inds.float())\n",
        "    \n",
        "    return masks"
      ],
      "execution_count": 0,
      "outputs": []
    },
    {
      "cell_type": "code",
      "metadata": {
        "id": "fpuc7pXTELHz",
        "colab_type": "code",
        "colab": {}
      },
      "source": [
        "def diff_init_weight_prune(model, pruning_perc):\n",
        "    all_weights = []\n",
        "    all_init_weights = []\n",
        "    for p in model.parameters():\n",
        "      if len(p.data.size()) != 1:\n",
        "        all_weights += list(p.cpu().data.abs().numpy().flatten())\n",
        "    \n",
        "    for p in model.init_parameters():\n",
        "      if len(p.data.size()) != 1:\n",
        "        all_init_weights += list(p.cpu().data.abs().numpy().flatten())\n",
        "    \n",
        "    threshold = np.percentile(abs(np.array(all_init_weights)) - abs(np.array(all_weights)), pruning_perc)\n",
        "    \n",
        "    print(threshold)\n",
        "    # generate mask\n",
        "    masks = []\n",
        "    for p, p_init in zip(model.parameters(), model.init_parameters()):\n",
        "      if len(p.data.size()) != 1 and len(p_init.data.size()) != 1:\n",
        "        pruned_inds = p_init.data.abs().cuda() - p.data.abs() > threshold\n",
        "        masks.append(pruned_inds.float())\n",
        "    \n",
        "    return masks"
      ],
      "execution_count": 0,
      "outputs": []
    },
    {
      "cell_type": "code",
      "metadata": {
        "id": "j9sqFQo1wAdG",
        "colab_type": "code",
        "colab": {}
      },
      "source": [
        "class MaskedLinear(nn.Linear):\n",
        "    def __init__(self, in_features, out_features, bias=True):\n",
        "        super(MaskedLinear, self).__init__(in_features, out_features, bias)\n",
        "        self.mask_flag = False\n",
        "    \n",
        "    def set_mask(self, mask):\n",
        "        self.mask = mask\n",
        "        mask_var = self.get_mask()\n",
        "        self.weight.data = self.weight.data * mask_var.data\n",
        "        self.mask_flag = True\n",
        "    \n",
        "    def get_mask(self):\n",
        "        return to_var(self.mask, requires_grad=False)\n",
        "    \n",
        "    def forward(self, x):\n",
        "        if self.mask_flag == True:\n",
        "            mask_var = self.get_mask()\n",
        "            weight = self.weight * mask_var\n",
        "            return F.linear(x, weight, self.bias)\n",
        "        else:\n",
        "            return F.linear(x, self.weight, self.bias)"
      ],
      "execution_count": 0,
      "outputs": []
    },
    {
      "cell_type": "code",
      "metadata": {
        "id": "E_Rrp8WBSfkp",
        "colab_type": "code",
        "colab": {}
      },
      "source": [
        "class MaskedConv2d(nn.Conv2d):\n",
        "    def __init__(self, in_channels, out_channels, kernel_size, stride=1,\n",
        "                 padding=0, dilation=1, groups=1, bias=True):\n",
        "        super(MaskedConv2d, self).__init__(in_channels, out_channels, \n",
        "            kernel_size, stride, padding, dilation, groups, bias)\n",
        "        self.mask_flag = False\n",
        "    \n",
        "    def set_mask(self, mask):\n",
        "        self.mask = mask\n",
        "        mask_var = self.get_mask()\n",
        "        self.weight.data = self.weight.data * mask_var.data\n",
        "        self.mask_flag = True\n",
        "    \n",
        "    def get_mask(self):\n",
        "        return to_var(self.mask, requires_grad=False)\n",
        "    \n",
        "    def forward(self, x):\n",
        "        if self.mask_flag == True:\n",
        "            mask_var = self.get_mask()\n",
        "            \n",
        "            weight = self.weight * mask_var\n",
        "            \n",
        "            return F.conv2d(x, weight, self.bias, self.stride,\n",
        "                        self.padding, self.dilation, self.groups)\n",
        "        else:\n",
        "            return F.conv2d(x, self.weight, self.bias, self.stride,\n",
        "                        self.padding, self.dilation, self.groups)"
      ],
      "execution_count": 0,
      "outputs": []
    },
    {
      "cell_type": "code",
      "metadata": {
        "id": "163vlcRDXstL",
        "colab_type": "code",
        "colab": {}
      },
      "source": [
        "class LeNet5(nn.Module):\n",
        "  def __init__(self):\n",
        "      super(LeNet5, self).__init__()\n",
        "\n",
        "      self.c1    = MaskedConv2d(3, 6, kernel_size=(5, 5))\n",
        "      self.relu1 = nn.ReLU()\n",
        "      self.s2    = nn.MaxPool2d(kernel_size=(2, 2), stride=2)\n",
        "      self.c3    = MaskedConv2d(6, 16, kernel_size=(5, 5))\n",
        "      self.relu3 = nn.ReLU()\n",
        "      self.s4    = nn.MaxPool2d(kernel_size=(2, 2), stride=2)\n",
        "      self.c5    = MaskedConv2d(16, 120, kernel_size=(5, 5))\n",
        "      self.relu5 = nn.ReLU()\n",
        "      \n",
        "      self.fc = nn.Sequential(OrderedDict([\n",
        "          ('f6', MaskedLinear(120, 84)),\n",
        "          ('relu6', nn.ReLU()),\n",
        "          ('f7', MaskedLinear(84, 10)),\n",
        "          ('sig7', nn.LogSoftmax(dim=-1))\n",
        "      ]))\n",
        "      \n",
        "      self.init_params = self.state_dict()\n",
        "      \n",
        "  def forward(self, img):\n",
        "      output = self.c1(img)\n",
        "      output = self.relu1(output)\n",
        "      output = self.s2(output)\n",
        "      output = self.c3(output)\n",
        "      output = self.relu3(output)\n",
        "      output = self.s4(output)\n",
        "      output = self.c5(output)\n",
        "      output = self.relu5(output)\n",
        "      \n",
        "      output = output.view(img.size(0), -1)\n",
        "      output = self.fc(output)\n",
        "\n",
        "      return output\n",
        "    \n",
        "  def set_masks(self, masks):\n",
        "      self.c1.set_mask(masks[0])\n",
        "      self.c3.set_mask(masks[1])\n",
        "      self.c5.set_mask(masks[2])    \n",
        "      self.fc.f6.set_mask(masks[3])\n",
        "      self.fc.f7.set_mask(masks[4])\n",
        "      \n",
        "  def reset_parameters(self):\n",
        "    self.load_state_dict(self.init_params)\n",
        "    \n",
        "  def init_parameters(self):\n",
        "    for name in self.init_params.keys():\n",
        "      yield self.init_params[name]"
      ],
      "execution_count": 0,
      "outputs": []
    },
    {
      "cell_type": "code",
      "metadata": {
        "id": "6PnWfk1REb7K",
        "colab_type": "code",
        "colab": {}
      },
      "source": [
        "def compute_accuracy(model, loader):\n",
        "\n",
        "    model.eval()\n",
        "    \n",
        "    num_correct, num_samples = 0, len(loader.dataset)\n",
        "    for x, y in loader:\n",
        "        x_var = to_var(x, volatile=True)\n",
        "        scores = model(x_var)\n",
        "        _, preds = scores.data.cpu().max(1)\n",
        "        num_correct += (preds == y).sum()\n",
        "\n",
        "    acc = float(num_correct) / num_samples\n",
        "\n",
        "    return acc"
      ],
      "execution_count": 0,
      "outputs": []
    },
    {
      "cell_type": "code",
      "metadata": {
        "id": "9NwiNUIfvuES",
        "colab_type": "code",
        "colab": {}
      },
      "source": [
        "#print(\"--- {}% parameters pruned ---\".format(prune_rate(model)))"
      ],
      "execution_count": 0,
      "outputs": []
    },
    {
      "cell_type": "code",
      "metadata": {
        "id": "ATxSQn5qEh57",
        "colab_type": "code",
        "colab": {}
      },
      "source": [
        "def train(model, loss_fn, optimizer, epochs, purge_epochs, purge_rate,\n",
        "          loader_train, loader_val=None):\n",
        "\n",
        "    model.train()\n",
        "    \n",
        "    loss_list = []\n",
        "    accuracy_list = []\n",
        "    \n",
        "    for epoch in range(epochs):\n",
        "        if ((epoch + 1) % purge_epochs == 0):\n",
        "          if purge_rate != 0: \n",
        "            print(\"Purging...\")     \n",
        "            masks = diff_init_weight_prune(model, (1 - (1 - purge_rate / 100) ** ((epoch + 1) / purge_epochs)) * 100)\n",
        "            \n",
        "            model.reset_parameters()\n",
        "            model.set_masks(masks)\n",
        "            \n",
        "            prune_rate(model)\n",
        "            \n",
        "        print('Starting epoch %d / %d' % (epoch + 1, epochs))\n",
        "        av_loss = 0\n",
        "        for t, (x, y) in enumerate(loader_train):\n",
        "            x_var, y_var = to_var(x), to_var(y.long())\n",
        "\n",
        "            scores = model(x_var)\n",
        "            loss = loss_fn(scores, y_var)\n",
        "            \n",
        "            optimizer.zero_grad()\n",
        "            loss.backward()\n",
        "            \n",
        "            optimizer.step()\n",
        "            av_loss += loss.item()\n",
        "        \n",
        "        \n",
        "        loss_list.append(av_loss / t)\n",
        "        accuracy_list.append(compute_accuracy(model, test_loader))\n",
        "          \n",
        "    return loss_list, accuracy_list, purge_rate     "
      ],
      "execution_count": 0,
      "outputs": []
    },
    {
      "cell_type": "code",
      "metadata": {
        "id": "XRv_i2pSI6OI",
        "colab_type": "code",
        "colab": {}
      },
      "source": [
        "def prune_rate(model, verbose=True):\n",
        "    total_nb_param = 0\n",
        "    nb_zero_param = 0\n",
        "\n",
        "    layer_id = 0\n",
        "\n",
        "    for parameter in model.parameters():\n",
        "      \n",
        "        param_this_layer = 1\n",
        "        for dim in parameter.data.size():\n",
        "            param_this_layer *= dim\n",
        "        total_nb_param += param_this_layer\n",
        "\n",
        "        # only pruning linear and conv layers\n",
        "        if len(parameter.data.size()) != 1:\n",
        "            layer_id += 1\n",
        "            zero_param_this_layer = \\\n",
        "                np.count_nonzero(parameter.cpu().data.numpy()==0)\n",
        "            nb_zero_param += zero_param_this_layer\n",
        "\n",
        "            if verbose:\n",
        "                print(\"Layer {} | {} layer | {:.2f}% parameters pruned\" \\\n",
        "                    .format(\n",
        "                        layer_id,\n",
        "                        'Conv' if len(parameter.data.size()) == 4 \\\n",
        "                            else 'Linear',\n",
        "                        100.*zero_param_this_layer/param_this_layer,\n",
        "                        ))\n",
        "                \n",
        "    pruning_perc = 100. * nb_zero_param/total_nb_param\n",
        "    \n",
        "    if verbose:\n",
        "        print(\"Current pruning rate: {:.2f}%\".format(pruning_perc))\n",
        "    \n",
        "    return pruning_perc"
      ],
      "execution_count": 0,
      "outputs": []
    },
    {
      "cell_type": "code",
      "metadata": {
        "id": "Qn3DlZEtBOb8",
        "colab_type": "code",
        "outputId": "85e37f59-a16a-4d98-e09d-ac22f92147a1",
        "colab": {
          "base_uri": "https://localhost:8080/",
          "height": 937
        }
      },
      "source": [
        "net = LeNet5()\n",
        "\n",
        "if torch.cuda.is_available():\n",
        "    print('CUDA enabled.')\n",
        "    net.cuda()\n",
        "\n",
        "print(\"--- Before retraining ---\")\n",
        "print(\"Accuracy: {}\".format(compute_accuracy(net, test_loader)))\n",
        "\n",
        "# Retrain\n",
        "criterion = nn.CrossEntropyLoss()\n",
        "optimizer = torch.optim.RMSprop(net.parameters(), lr=0.001, \n",
        "                                weight_decay=0.0001)\n",
        "\n",
        "loss, accuracy, _ = train(net, criterion, optimizer, epochs=20, \n",
        "                       purge_epochs=7, purge_rate=10, \n",
        "                       loader_train=train_loader)\n",
        "\n",
        "print(\"--- After retraining ---\")\n",
        "print(\"Accuracy: {}\".format(compute_accuracy(net, test_loader)))\n",
        "prune_rate(net)"
      ],
      "execution_count": 24,
      "outputs": [
        {
          "output_type": "stream",
          "text": [
            "CUDA enabled.\n",
            "--- Before retraining ---\n"
          ],
          "name": "stdout"
        },
        {
          "output_type": "stream",
          "text": [
            "/usr/local/lib/python3.6/dist-packages/ipykernel_launcher.py:4: UserWarning: volatile was removed and now has no effect. Use `with torch.no_grad():` instead.\n",
            "  after removing the cwd from sys.path.\n"
          ],
          "name": "stderr"
        },
        {
          "output_type": "stream",
          "text": [
            "Accuracy: 0.07759680393362016\n",
            "Starting epoch 1 / 20\n",
            "Starting epoch 2 / 20\n",
            "Starting epoch 3 / 20\n",
            "Starting epoch 4 / 20\n",
            "Starting epoch 5 / 20\n",
            "Starting epoch 6 / 20\n",
            "Purging...\n",
            "-0.10853272676467897\n",
            "Layer 1 | Conv layer | 16.44% parameters pruned\n",
            "Layer 2 | Conv layer | 11.83% parameters pruned\n",
            "Layer 3 | Conv layer | 9.00% parameters pruned\n",
            "Layer 4 | Linear layer | 12.52% parameters pruned\n",
            "Layer 5 | Linear layer | 27.98% parameters pruned\n",
            "Current pruning rate: 9.96%\n",
            "Starting epoch 7 / 20\n",
            "Starting epoch 8 / 20\n",
            "Starting epoch 9 / 20\n",
            "Starting epoch 10 / 20\n",
            "Starting epoch 11 / 20\n",
            "Starting epoch 12 / 20\n",
            "Starting epoch 13 / 20\n",
            "Purging...\n",
            "-0.08885966986417776\n",
            "Layer 1 | Conv layer | 24.22% parameters pruned\n",
            "Layer 2 | Conv layer | 23.50% parameters pruned\n",
            "Layer 3 | Conv layer | 17.90% parameters pruned\n",
            "Layer 4 | Linear layer | 21.71% parameters pruned\n",
            "Layer 5 | Linear layer | 33.57% parameters pruned\n",
            "Current pruning rate: 18.93%\n",
            "Starting epoch 14 / 20\n",
            "Starting epoch 15 / 20\n",
            "Starting epoch 16 / 20\n",
            "Starting epoch 17 / 20\n",
            "Starting epoch 18 / 20\n",
            "Starting epoch 19 / 20\n",
            "Starting epoch 20 / 20\n",
            "--- After retraining ---\n",
            "Accuracy: 0.892440073755378\n",
            "Layer 1 | Conv layer | 24.22% parameters pruned\n",
            "Layer 2 | Conv layer | 23.50% parameters pruned\n",
            "Layer 3 | Conv layer | 17.90% parameters pruned\n",
            "Layer 4 | Linear layer | 21.71% parameters pruned\n",
            "Layer 5 | Linear layer | 33.57% parameters pruned\n",
            "Current pruning rate: 18.93%\n"
          ],
          "name": "stdout"
        },
        {
          "output_type": "execute_result",
          "data": {
            "text/plain": [
              "18.928813340644453"
            ]
          },
          "metadata": {
            "tags": []
          },
          "execution_count": 24
        }
      ]
    },
    {
      "cell_type": "code",
      "metadata": {
        "id": "-xT14_40PhsH",
        "colab_type": "code",
        "colab": {}
      },
      "source": [
        "from matplotlib.colors import ListedColormap\n",
        "from matplotlib import colors\n",
        "\n",
        "def visualize(weights, title, figsize=None):\n",
        "  plt.figure(figsize=figsize)\n",
        "  \n",
        "\n",
        "  cmap = ListedColormap(['k', 'w', 'r'])\n",
        "  #cax = ax.matshow(x,cmap=cmap)\n",
        "  data = weights.data.cpu().detach().abs().numpy().flatten()\n",
        "  half = int(np.sqrt(data.size)) + 1\n",
        "  data = np.concatenate((data, np.zeros(half * half - data.size)), axis=0)\n",
        "  data = data.reshape(half, half)\n",
        "  \n",
        "  bounds=[0,0.000000000000001,0.5,1.0]\n",
        "  norm = colors.BoundaryNorm(bounds, cmap.N)\n",
        "  \n",
        "  plt.imshow(data, cmap=cmap, norm=norm)\n",
        "  plt.colorbar()\n",
        "  plt.title(title)\n",
        "  plt.axis('off')\n",
        "  plt.tight_layout()"
      ],
      "execution_count": 0,
      "outputs": []
    },
    {
      "cell_type": "code",
      "metadata": {
        "id": "Nh6ti0wBPiwn",
        "colab_type": "code",
        "colab": {
          "base_uri": "https://localhost:8080/",
          "height": 297
        },
        "outputId": "8ae42356-1739-4e9f-8a46-b6280c7d9c8c"
      },
      "source": [
        "visualize(net.fc.f7.weight, title = \"Fully Connected 2\")"
      ],
      "execution_count": 37,
      "outputs": [
        {
          "output_type": "display_data",
          "data": {
            "image/png": "[encoded data removed]",
            "text/plain": [
              "<Figure size 432x288 with 2 Axes>"
            ]
          },
          "metadata": {
            "tags": []
          }
        }
      ]
    },
    {
      "cell_type": "code",
      "metadata": {
        "id": "eUr8L0q1Uo9T",
        "colab_type": "code",
        "colab": {
          "base_uri": "https://localhost:8080/",
          "height": 297
        },
        "outputId": "ff681bf6-e1fd-47ba-8f9a-a0930c3cd405"
      },
      "source": [
        "visualize(net.c1.weight, title = \"Convolution 1\")"
      ],
      "execution_count": 36,
      "outputs": [
        {
          "output_type": "display_data",
          "data": {
            "image/png": "[encoded data removed]",
            "text/plain": [
              "<Figure size 432x288 with 2 Axes>"
            ]
          },
          "metadata": {
            "tags": []
          }
        }
      ]
    },
    {
      "cell_type": "code",
      "metadata": {
        "id": "oHVMBaI54qKq",
        "colab_type": "code",
        "outputId": "d30e89f5-1eef-44a0-a744-e907b100ffaf",
        "colab": {
          "base_uri": "https://localhost:8080/",
          "height": 287
        }
      },
      "source": [
        "ractivations = {}\n",
        "def get_activation(name):\n",
        "    def hook(model, input, output):\n",
        "        activations[name] = output.detach()\n",
        "    \n",
        "    return hook\n",
        "\n",
        "weights = net.c1.weight.data.cpu().abs().view(25, -1).numpy()\n",
        "net.c1.register_forward_hook(get_activation('c1'))\n",
        "\n",
        "x = torch.randn(1, 3, 32, 32)\n",
        "x = x.cuda()\n",
        "output = net(x)\n",
        "\n",
        "im = plt.imshow(weights, interpolation='nearest', aspect='auto')\n",
        "plt.colorbar()"
      ],
      "execution_count": 25,
      "outputs": [
        {
          "output_type": "execute_result",
          "data": {
            "text/plain": [
              "<matplotlib.colorbar.Colorbar at 0x7f86c86fd2b0>"
            ]
          },
          "metadata": {
            "tags": []
          },
          "execution_count": 25
        },
        {
          "output_type": "display_data",
          "data": {
            "image/png": "[encoded data removed]",
            "text/plain": [
              "<Figure size 432x288 with 2 Axes>"
            ]
          },
          "metadata": {
            "tags": []
          }
        }
      ]
    },
    {
      "cell_type": "code",
      "metadata": {
        "id": "1c59V3qqXp19",
        "colab_type": "code",
        "outputId": "4e4bd44c-8a51-4269-ccb1-a7f98772f2ac",
        "colab": {
          "base_uri": "https://localhost:8080/",
          "height": 287
        }
      },
      "source": [
        "plt.plot(accuracy)"
      ],
      "execution_count": 26,
      "outputs": [
        {
          "output_type": "execute_result",
          "data": {
            "text/plain": [
              "[<matplotlib.lines.Line2D at 0x7f86c862ceb8>]"
            ]
          },
          "metadata": {
            "tags": []
          },
          "execution_count": 26
        },
        {
          "output_type": "display_data",
          "data": {
            "image/png": "[encoded data removed]",
            "text/plain": [
              "<Figure size 432x288 with 1 Axes>"
            ]
          },
          "metadata": {
            "tags": []
          }
        }
      ]
    },
    {
      "cell_type": "code",
      "metadata": {
        "id": "tKnR7KAfbXLp",
        "colab_type": "code",
        "outputId": "0f588f0e-81c8-46eb-f27b-0e598355000a",
        "colab": {
          "base_uri": "https://localhost:8080/",
          "height": 55
        }
      },
      "source": [
        "print(loss)"
      ],
      "execution_count": 27,
      "outputs": [
        {
          "output_type": "stream",
          "text": [
            "[0.8349632100614368, 0.4530246591653492, 0.3774478290657528, 0.33510805669500204, 0.3063915860518569, 0.2800439356536162, 1.0379936404404093, 0.4674890332656806, 0.3858972800926107, 0.3385272432240795, 0.3028519709365534, 0.278235163799197, 0.255851521202531, 0.9810279460349044, 0.45176791934082744, 0.3750842335588131, 0.32982399966262405, 0.29700814672425147, 0.27329533952059315, 0.25243784194720575]\n"
          ],
          "name": "stdout"
        }
      ]
    },
    {
      "cell_type": "code",
      "metadata": {
        "id": "8HzBcRExN_fq",
        "colab_type": "code",
        "outputId": "107b07e3-cd8d-4247-a67d-6bf73017cf23",
        "colab": {
          "base_uri": "https://localhost:8080/",
          "height": 55
        }
      },
      "source": [
        "print(accuracy)"
      ],
      "execution_count": 28,
      "outputs": [
        {
          "output_type": "stream",
          "text": [
            "[0.8260986478180701, 0.859480639213276, 0.8739244007375537, 0.8730792870313461, 0.8782652120467117, 0.8799938537185003, 0.8245620774431469, 0.8641287645974186, 0.8728103872157345, 0.8843346650276582, 0.8789950829748002, 0.889059618930547, 0.8857175783650891, 0.8350107559926244, 0.8620159803318992, 0.8672787338660111, 0.8831438229870928, 0.8874462200368777, 0.8860248924400738, 0.892440073755378]\n"
          ],
          "name": "stdout"
        }
      ]
    },
    {
      "cell_type": "code",
      "metadata": {
        "id": "ZO6N1equRqNY",
        "colab_type": "code",
        "colab": {}
      },
      "source": [
        ""
      ],
      "execution_count": 0,
      "outputs": []
    }
  ]
}